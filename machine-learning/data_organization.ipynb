{
 "cells": [
  {
   "cell_type": "code",
   "execution_count": 13,
   "metadata": {},
   "outputs": [],
   "source": [
    "import os\n",
    "import uuid\n",
    "import cv2\n",
    "import shutil"
   ]
  },
  {
   "cell_type": "code",
   "execution_count": 3,
   "metadata": {},
   "outputs": [],
   "source": [
    "POS_PATH = os.path.join('data', 'divy', 'positive')\n",
    "NEG_PATH = os.path.join('data', 'divy', 'negative')\n",
    "ANC_PATH = os.path.join('data', 'divy', 'anchor')"
   ]
  },
  {
   "attachments": {},
   "cell_type": "markdown",
   "metadata": {},
   "source": [
    "## Collect positives and anchors"
   ]
  },
  {
   "attachments": {},
   "cell_type": "markdown",
   "metadata": {},
   "source": [
    "Open the webcam and store the captures in `data/positive/` and `data/anchor/`.\n",
    "\n",
    "To store a positive image, press `p` and to store an anchor image, press `a`."
   ]
  },
  {
   "cell_type": "code",
   "execution_count": 2,
   "metadata": {},
   "outputs": [],
   "source": [
    "# Establish a connection to the webcam\n",
    "cap = cv2.VideoCapture(0)\n",
    "while cap.isOpened(): \n",
    "    ret, frame = cap.read()\n",
    "\n",
    "    # Cut down frame to (250, 250)\n",
    "    # shape on my (Divy) computer is (480, 640, 3) = (height, width, channels) (this is irrelevant though)\n",
    "    frame = cv2.resize(frame, (frame.shape[0], frame.shape[0]))\n",
    "    frame = cv2.resize(frame, (250, 250))\n",
    "    frame = cv2.flip(frame, 1)\n",
    "\n",
    "    # collect anchors: press a\n",
    "    if cv2.waitKey(1) & 0XFF == ord('a'):\n",
    "        imgname = os.path.join(ANC_PATH, '{}.jpg'.format(uuid.uuid1()))\n",
    "        cv2.imwrite(imgname, frame)\n",
    "\n",
    "    # collect positives: press p\n",
    "    if cv2.waitKey(1) & 0XFF == ord('p'):\n",
    "        imgname = os.path.join(POS_PATH, '{}.jpg'.format(uuid.uuid1()))\n",
    "        cv2.imwrite(imgname, frame)\n",
    "    \n",
    "    cv2.imshow('Image Collection', frame)\n",
    "\n",
    "    # stop the cam: press q\n",
    "    if cv2.waitKey(1) & 0XFF == ord('q'):\n",
    "        break\n",
    "        \n",
    "# Release the webcam\n",
    "cap.release()\n",
    "# Close the image show frame\n",
    "cv2.destroyAllWindows()"
   ]
  },
  {
   "attachments": {},
   "cell_type": "markdown",
   "metadata": {},
   "source": [
    "## Data organization scripts"
   ]
  },
  {
   "cell_type": "code",
   "execution_count": 4,
   "metadata": {},
   "outputs": [],
   "source": [
    "# # Move code from `lfw/` directory to `data/negative/`\n",
    "# for directory in os.listdir('lfw'):\n",
    "#     for file in os.listdir(os.path.join('lfw', directory)):\n",
    "#         EX_PATH = os.path.join('lfw', directory, file)\n",
    "#         NEW_PATH = os.path.join(NEG_PATH, file)\n",
    "#         os.replace(EX_PATH, NEW_PATH)"
   ]
  },
  {
   "cell_type": "code",
   "execution_count": 4,
   "metadata": {},
   "outputs": [],
   "source": [
    "# # make foders from B51 to B200 in the data folder\n",
    "# data_path = os.path.join('data')\n",
    "\n",
    "# for i in range(51, 201):\n",
    "#     os.makedirs(os.path.join(data_path, f'B{i}'))\n",
    "\n",
    "# # # make positive and anchor forlder in each of the 50 folders\n",
    "# data_path = os.path.join('data')\n",
    "# for i in range(51, 201):\n",
    "#     os.makedirs(os.path.join(data_path, f'B{i}', 'positive'))\n",
    "#     os.makedirs(os.path.join(data_path, f'B{i}', 'anchor'))\n",
    "\n",
    "# # move all files inside 'datasets/originalimages_part1/' starting with i into 'data/Bi' folder\n",
    "\n",
    "# idx_to_not_include = [1, 2, 9, 10, 14]\n",
    "# for file in os.listdir(os.path.join('datasets', 'originalimages_part4')):\n",
    "#     components = file.replace('.jpg', '')\n",
    "#     components = components.split('-')\n",
    "#     components = [int(i) for i in components]\n",
    "    \n",
    "#     if components[1] not in idx_to_not_include:\n",
    "#         EX_PATH = os.path.join('datasets', 'originalimages_part4', file)\n",
    "#         if components[1] % 2 == 0:\n",
    "#             NEW_PATH = os.path.join('data', f'B{components[0]}', 'positive', file)\n",
    "#         else:\n",
    "#             NEW_PATH = os.path.join('data', f'B{components[0]}', 'anchor', file)\n",
    "#         os.popen(f\"copy {EX_PATH} {NEW_PATH}\")"
   ]
  },
  {
   "cell_type": "code",
   "execution_count": 8,
   "metadata": {},
   "outputs": [],
   "source": [
    "# # move all files inside 'datasets/GTdb_crop/' starting with i into 'data/Bi' folder\n",
    "\n",
    "# for file in os.listdir(os.path.join('datasets', 'GTdb_crop')):\n",
    "#     components = file.replace('.jpg', '')\n",
    "#     components = components[1:]\n",
    "#     components = components.split('_')\n",
    "#     components = [int(i) for i in components]\n",
    "    \n",
    "#     EX_PATH = os.path.join('datasets', 'GTdb_crop', file)\n",
    "#     if components[1] % 2 == 1:\n",
    "#         NEW_PATH = os.path.join('data', f'GT{components[0]}', 'positive', file)\n",
    "#     else:\n",
    "#         NEW_PATH = os.path.join('data', f'GT{components[0]}', 'anchor', file)\n",
    "    \n",
    "#     # create folder if it doesn't exist\n",
    "#     pos_path = os.path.join('data', f'GT{components[0]}', 'positive')\n",
    "#     anc_path = os.path.join('data', f'GT{components[0]}', 'anchor')\n",
    "#     if not os.path.exists(pos_path):\n",
    "#         os.makedirs(pos_path)\n",
    "#     if not os.path.exists(anc_path):\n",
    "#         os.makedirs(anc_path)\n",
    "    \n",
    "#     os.popen(f\"copy {EX_PATH} {NEW_PATH}\")"
   ]
  },
  {
   "cell_type": "code",
   "execution_count": 8,
   "metadata": {},
   "outputs": [],
   "source": [
    "# # move half the files from 'data/si' to 'data/si/positive' and the other half to 'data/si/anchor'\n",
    "\n",
    "# for i in range(34, 51):\n",
    "#     for file in os.listdir(os.path.join('data', 's' + str(i))):\n",
    "#         EX_PATH = os.path.join('data', 's' + str(i), file)\n",
    "#         if int(file[:2]) % 2 == 0:\n",
    "#             NEW_PATH = os.path.join('data', 's' + str(i), 'anchor')\n",
    "#         else:\n",
    "#             NEW_PATH = os.path.join('data', 's' + str(i), 'positive')\n",
    "#         if not os.path.exists(NEW_PATH):\n",
    "#             os.makedirs(NEW_PATH)\n",
    "#         os.popen(f\"move {EX_PATH} {os.path.join(NEW_PATH, file)}\")"
   ]
  },
  {
   "cell_type": "code",
   "execution_count": 11,
   "metadata": {},
   "outputs": [],
   "source": [
    "# # move all files from `datasets/lfw` to `data/`\n",
    "# # and move half the files from `data/person` to `data/person/positive` and the other half to `data/person/anchor`\n",
    "\n",
    "# for person in os.listdir(os.path.join('datasets', 'lfw')):\n",
    "#     OLD_PATH = os.path.join('data', person)\n",
    "\n",
    "#     # delete the contents of the folder\n",
    "#     for file in os.listdir(OLD_PATH):\n",
    "#         path = os.path.join(OLD_PATH, file)\n",
    "#         try:\n",
    "#             if os.path.isfile(path) or os.path.islink(path):\n",
    "#                 os.unlink(path)\n",
    "#         except Exception as e:\n",
    "#             print('Failed to delete %s. Reason: %s' % (path, e))\n",
    "\n",
    "#     # create subdirectories\n",
    "#     os.makedirs(os.path.join(OLD_PATH, 'positive'))\n",
    "#     os.makedirs(os.path.join(OLD_PATH, 'anchor'))\n",
    "\n",
    "#     # move half the files to positive and the other half to anchor\n",
    "#     count = 0\n",
    "#     for file in os.listdir(os.path.join('datasets', 'lfw', person)):\n",
    "#         if count % 2 == 0:\n",
    "#             NEW_PATH = os.path.join(OLD_PATH, 'anchor')\n",
    "#         else:\n",
    "#             NEW_PATH = os.path.join(OLD_PATH, 'positive')\n",
    "#         EX_PATH = os.path.join('datasets', 'lfw', person, file)\n",
    "#         os.popen(f\"copy {EX_PATH} {NEW_PATH}\")\n",
    "#         count += 1"
   ]
  },
  {
   "cell_type": "code",
   "execution_count": 14,
   "metadata": {},
   "outputs": [],
   "source": [
    "# # delete folders with empty `positive` subfolder in `data/`\n",
    "\n",
    "# for person in os.listdir('data'):\n",
    "#     if len(os.listdir(os.path.join('data', person, 'positive'))) == 0:\n",
    "#         shutil.rmtree(os.path.join('data', person))"
   ]
  }
 ],
 "metadata": {
  "kernelspec": {
   "display_name": "Python 3",
   "language": "python",
   "name": "python3"
  },
  "language_info": {
   "codemirror_mode": {
    "name": "ipython",
    "version": 3
   },
   "file_extension": ".py",
   "mimetype": "text/x-python",
   "name": "python",
   "nbconvert_exporter": "python",
   "pygments_lexer": "ipython3",
   "version": "3.10.4"
  },
  "orig_nbformat": 4,
  "vscode": {
   "interpreter": {
    "hash": "a67940535f83fc62644c05dbe19253c3e9fd5f60d6472c576c560ef177877968"
   }
  }
 },
 "nbformat": 4,
 "nbformat_minor": 2
}
