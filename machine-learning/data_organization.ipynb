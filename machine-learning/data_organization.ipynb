{
 "cells": [
  {
   "cell_type": "code",
   "execution_count": 51,
   "metadata": {},
   "outputs": [],
   "source": [
    "import os"
   ]
  },
  {
   "cell_type": "code",
   "execution_count": 52,
   "metadata": {},
   "outputs": [],
   "source": [
    "POS_PATH = os.path.join('data', 'arnav', 'positive')\n",
    "NEG_PATH = os.path.join('data', 'arnav', 'negative')\n",
    "ANC_PATH = os.path.join('data', 'arnav', 'anchor')"
   ]
  },
  {
   "attachments": {},
   "cell_type": "markdown",
   "metadata": {},
   "source": [
    "Move code from `lfw/` directory to `data/negative/`"
   ]
  },
  {
   "cell_type": "code",
   "execution_count": 53,
   "metadata": {},
   "outputs": [],
   "source": [
    "# for directory in os.listdir('lfw'):\n",
    "#     for file in os.listdir(os.path.join('lfw', directory)):\n",
    "#         EX_PATH = os.path.join('lfw', directory, file)\n",
    "#         NEW_PATH = os.path.join(NEG_PATH, file)\n",
    "#         os.replace(EX_PATH, NEW_PATH)"
   ]
  },
  {
   "attachments": {},
   "cell_type": "markdown",
   "metadata": {},
   "source": [
    "## Collect positives and anchors"
   ]
  },
  {
   "cell_type": "code",
   "execution_count": 54,
   "metadata": {},
   "outputs": [],
   "source": [
    "import uuid\n",
    "import cv2"
   ]
  },
  {
   "attachments": {},
   "cell_type": "markdown",
   "metadata": {},
   "source": [
    "Open the webcam and store the captures in `data/positive/` and `data/anchor/`.\n",
    "\n",
    "To store a positive image, press `p` and to store an anchor image, press `a`."
   ]
  },
  {
   "cell_type": "code",
   "execution_count": 55,
   "metadata": {},
   "outputs": [],
   "source": [
    "# Establish a connection to the webcam\n",
    "cap = cv2.VideoCapture(0)\n",
    "while cap.isOpened(): \n",
    "    ret, frame = cap.read()\n",
    "\n",
    "    # Cut down frame to (250, 250)\n",
    "    # shape on my (Divy) computer is (480, 640, 3) = (height, width, channels) (this is irrelevant though)\n",
    "    frame = cv2.resize(frame, (frame.shape[0], frame.shape[0]))\n",
    "    frame = cv2.resize(frame, (250, 250))\n",
    "    frame = cv2.flip(frame, 1)\n",
    "\n",
    "    # collect anchors: press a\n",
    "    if cv2.waitKey(1) & 0XFF == ord('a'):\n",
    "        imgname = os.path.join(ANC_PATH, '{}.jpg'.format(uuid.uuid1()))\n",
    "        cv2.imwrite(imgname, frame)\n",
    "\n",
    "    # collect positives: press p\n",
    "    if cv2.waitKey(1) & 0XFF == ord('p'):\n",
    "        imgname = os.path.join(POS_PATH, '{}.jpg'.format(uuid.uuid1()))\n",
    "        cv2.imwrite(imgname, frame)\n",
    "    \n",
    "    cv2.imshow('Image Collection', frame)\n",
    "\n",
    "    # stop the cam: press q\n",
    "    if cv2.waitKey(1) & 0XFF == ord('q'):\n",
    "        break\n",
    "        \n",
    "# Release the webcam\n",
    "cap.release()\n",
    "# Close the image show frame\n",
    "cv2.destroyAllWindows()"
   ]
  },
  {
   "attachments": {},
   "cell_type": "markdown",
   "metadata": {},
   "source": [
    "## Populate negative directories with new data"
   ]
  },
  {
   "cell_type": "code",
   "execution_count": null,
   "metadata": {},
   "outputs": [],
   "source": [
    "PEOPLE = ('divy', 'matt', 'elio', 'arnav')\n",
    "\n",
    "# move all other positive files into all negative (except fo the person's own negative folder)\n",
    "for person in PEOPLE:\n",
    "    for other_person in PEOPLE:\n",
    "        if person != other_person:\n",
    "            for file in os.listdir(os.path.join('machine-learning', 'data', other_person, 'positive')):\n",
    "                EX_PATH = os.path.join('machine-learning', 'data', other_person, 'positive', file)\n",
    "                NEW_PATH = os.path.join('machine-learning', 'data', person, 'negative', file)\n",
    "                os.popen(f\"copy {EX_PATH} {NEW_PATH}\")"
   ]
  }
 ],
 "metadata": {
  "kernelspec": {
   "display_name": "Python 3",
   "language": "python",
   "name": "python3"
  },
  "language_info": {
   "codemirror_mode": {
    "name": "ipython",
    "version": 3
   },
   "file_extension": ".py",
   "mimetype": "text/x-python",
   "name": "python",
   "nbconvert_exporter": "python",
   "pygments_lexer": "ipython3",
   "version": "3.10.4"
  },
  "orig_nbformat": 4
 },
 "nbformat": 4,
 "nbformat_minor": 2
}
